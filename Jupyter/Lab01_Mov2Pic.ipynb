{
 "cells": [
  {
   "cell_type": "code",
   "execution_count": 1,
   "metadata": {},
   "outputs": [],
   "source": [
    "import cv2 \n",
    "cap = cv2.VideoCapture('./image/move.avi') \n",
    "while cap.isOpened():\n",
    "    ret, image = cap.read() \n",
    "    if ret == False:\n",
    "        break \n",
    "    cv2.imshow ( 'Image Show', image) \n",
    "    if cv2.waitKey(1) == ord('q'):\n",
    "        break \n",
    "cap.release() \n",
    "cv2.destroyAllWindows ()"
   ]
  },
  {
   "cell_type": "code",
   "execution_count": 2,
   "metadata": {},
   "outputs": [],
   "source": [
    "import cv2 \n",
    "cap = cv2.VideoCapture('./image/move.avi') \n",
    "while cap.isOpened():\n",
    "    ret, image = cap.read() \n",
    "    if ret == False:\n",
    "        break \n",
    "    cv2.imshow ( 'Image Show', image) \n",
    "    cv2.imwrite ( './frame/result.jpg', image) \n",
    "    if cv2.waitKey(1) == ord('q'):\n",
    "        break \n",
    "cap.release() \n",
    "cv2.destroyAllWindows ()\n"
   ]
  },
  {
   "cell_type": "code",
   "execution_count": 4,
   "metadata": {},
   "outputs": [],
   "source": [
    "import cv2 \n",
    "cap = cv2. VideoCapture('./image/move.avi') \n",
    "i = 1 \n",
    "while cap. isOpened():\n",
    "    ret, image = cap.read() \n",
    "    if ret == False:\n",
    "        break \n",
    "    cv2.imshow('Image Show', image) \n",
    "    cv2.imwrite('./frame/result'+str(i)+'.jpg', image) \n",
    "    i += 1 \n",
    "    if cv2.waitKey(1) == ord('q') :\n",
    "        break \n",
    "cap.release() \n",
    "cv2.destroyAllWindows ()\n"
   ]
  },
  {
   "cell_type": "code",
   "execution_count": null,
   "metadata": {},
   "outputs": [],
   "source": []
  }
 ],
 "metadata": {
  "kernelspec": {
   "display_name": "Python 3 (ipykernel)",
   "language": "python",
   "name": "python3"
  },
  "language_info": {
   "codemirror_mode": {
    "name": "ipython",
    "version": 3
   },
   "file_extension": ".py",
   "mimetype": "text/x-python",
   "name": "python",
   "nbconvert_exporter": "python",
   "pygments_lexer": "ipython3",
   "version": "3.9.12"
  }
 },
 "nbformat": 4,
 "nbformat_minor": 4
}

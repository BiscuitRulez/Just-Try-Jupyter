{
 "cells": [
  {
   "cell_type": "code",
   "execution_count": null,
   "metadata": {},
   "outputs": [],
   "source": [
    "# Mouse/Key Event Detector\n",
    "import cv2\n",
    "img_name = \"Just Trying to Detect Mouse/Key Events\"\n",
    "\n",
    "def click_event(event, x, y, flags, param):\n",
    "    print(\"Mouse Active\")\n",
    "    if event == cv2.EVENT_RBUTTONDOWN:\n",
    "        print(\"Right Button Down\")\n",
    "\n",
    "img = cv2.imread(\".\\image\\lena.jpg\")\n",
    "cv2.imshow(img_name, img)\n",
    "cv2.setMouseCallback(img_name, click_event)\n",
    "\n",
    "cv2.waitKey(0)\n",
    "cv2.destroyAllWindows()\n"
   ]
  },
  {
   "cell_type": "code",
   "execution_count": null,
   "metadata": {},
   "outputs": [],
   "source": [
    "# Mouse/Key Event Detector\n",
    "import cv2\n",
    "img_name = \"Just Trying to Detect Mouse/Key Events\"\n",
    "\n",
    "def click_event(event, x, y, flags, param):\n",
    "    if event == cv2.EVENT_LBUTTONDOWN:\n",
    "        print(\"Left Button Down\")\n",
    "    if event == cv2.EVENT_RBUTTONDOWN:\n",
    "        print(\"Right Button Down\")\n",
    "\n",
    "img = cv2.imread(\".\\image\\lena.jpg\")\n",
    "cv2.imshow(img_name, img)\n",
    "cv2.setMouseCallback(img_name, click_event)\n",
    "\n",
    "cv2.waitKey(0)\n",
    "cv2.destroyAllWindows()\n"
   ]
  },
  {
   "cell_type": "code",
   "execution_count": null,
   "metadata": {},
   "outputs": [],
   "source": [
    "# Mouse/Key Event Detector\n",
    "import cv2\n",
    "img_name = \"Just Trying to Detect Mouse/Key Events\"\n",
    "\n",
    "def click_event(event, x, y, flags, param):\n",
    "    if event == cv2.EVENT_LBUTTONDOWN:\n",
    "        print(\"Left Button Down\")\n",
    "    if event == cv2.EVENT_RBUTTONDOWN:\n",
    "        print(\"Right Button Down\")\n",
    "    if flags == cv2.EVENT_FLAG_CTRLKEY + cv2.EVENT_FLAG_LBUTTON:\n",
    "        print(\"Left Button Down while pressing CTRL key\")\n",
    "    if flags == cv2.EVENT_FLAG_RBUTTON + cv2.EVENT_FLAG_ALTKEY:\n",
    "        print(\"Right Button Down while pressing ALT key\")\n",
    "\n",
    "img = cv2.imread(\".\\image\\lena.jpg\")\n",
    "cv2.imshow(img_name, img)\n",
    "cv2.setMouseCallback(img_name, click_event)\n",
    "\n",
    "cv2.waitKey(0)\n",
    "cv2.destroyAllWindows()\n"
   ]
  },
  {
   "cell_type": "code",
   "execution_count": null,
   "metadata": {},
   "outputs": [],
   "source": [
    "import cv2\n",
    "img_Name = \"Just Trying to Detect Mouse/Key Events\"\n",
    "\n",
    "def click_event(event, x, y, flags, param):\n",
    "    if event == cv2.EVENT_LBUTTONDOWN:\n",
    "        print(x,y)\n",
    "\n",
    "img = cv2.imread('./image/lena.jpg')\n",
    "cv2.imshow(img_Name, img)\n",
    "cv2.setMouseCallback(img_Name, click_event)\n",
    "\n",
    "cv2.waitKey(0)\n",
    "cv2.destroyAllWindows()"
   ]
  },
  {
   "cell_type": "code",
   "execution_count": null,
   "metadata": {},
   "outputs": [],
   "source": []
  }
 ],
 "metadata": {
  "kernelspec": {
   "display_name": "Python 3 (ipykernel)",
   "language": "python",
   "name": "python3"
  },
  "language_info": {
   "codemirror_mode": {
    "name": "ipython",
    "version": 3
   },
   "file_extension": ".py",
   "mimetype": "text/x-python",
   "name": "python",
   "nbconvert_exporter": "python",
   "pygments_lexer": "ipython3",
   "version": "3.9.12"
  }
 },
 "nbformat": 4,
 "nbformat_minor": 4
}

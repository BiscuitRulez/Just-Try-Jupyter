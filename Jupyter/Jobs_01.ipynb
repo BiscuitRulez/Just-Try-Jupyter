{
 "cells": [
  {
   "cell_type": "code",
   "execution_count": null,
   "id": "ecbc1783-462d-4ef0-93bd-86e0e043cd67",
   "metadata": {},
   "outputs": [],
   "source": [
    "7."
   ]
  },
  {
   "cell_type": "code",
   "execution_count": 3,
   "id": "8b86c0c9-d354-489e-ac00-35e19c519c19",
   "metadata": {},
   "outputs": [
    {
     "ename": "error",
     "evalue": "OpenCV(4.10.0) C:\\b\\abs_a3k2mim6t7\\croot\\opencv-suite_1744821726920\\work\\modules\\highgui\\src\\window.cpp:973: error: (-215:Assertion failed) size.width>0 && size.height>0 in function 'cv::imshow'\n",
     "output_type": "error",
     "traceback": [
      "\u001b[31m---------------------------------------------------------------------------\u001b[39m",
      "\u001b[31merror\u001b[39m                                     Traceback (most recent call last)",
      "\u001b[36mCell\u001b[39m\u001b[36m \u001b[39m\u001b[32mIn[3]\u001b[39m\u001b[32m, line 10\u001b[39m\n\u001b[32m      4\u001b[39m img3 = cv2.imread(\u001b[33m'\u001b[39m\u001b[33m./image/ME.jpg\u001b[39m\u001b[33m'\u001b[39m, cv2.IMREAD_UNCHANGED)\n\u001b[32m      5\u001b[39m \u001b[38;5;66;03m# or\u001b[39;00m\n\u001b[32m      6\u001b[39m \u001b[38;5;66;03m# img1 = cv2.imread('./image/lena.jpg', 0) \u001b[39;00m\n\u001b[32m      7\u001b[39m \u001b[38;5;66;03m# img2 = cv2.imread('./image/lena.jpg', 1) \u001b[39;00m\n\u001b[32m      8\u001b[39m \u001b[38;5;66;03m# img3 = cv2.imread('./image/lena.jpg', -1)\u001b[39;00m\n\u001b[32m---> \u001b[39m\u001b[32m10\u001b[39m cv2.imshow(\u001b[33m'\u001b[39m\u001b[33mImage color\u001b[39m\u001b[33m'\u001b[39m,img1) \n\u001b[32m     11\u001b[39m cv2.imshow(\u001b[33m'\u001b[39m\u001b[33mImage gray\u001b[39m\u001b[33m'\u001b[39m,img2) \n\u001b[32m     12\u001b[39m cv2.imshow(\u001b[33m'\u001b[39m\u001b[33mImage unchanged\u001b[39m\u001b[33m'\u001b[39m,img3) \n",
      "\u001b[31merror\u001b[39m: OpenCV(4.10.0) C:\\b\\abs_a3k2mim6t7\\croot\\opencv-suite_1744821726920\\work\\modules\\highgui\\src\\window.cpp:973: error: (-215:Assertion failed) size.width>0 && size.height>0 in function 'cv::imshow'\n"
     ]
    }
   ],
   "source": [
    "import cv2 \n",
    "img1 = cv2.imread('./image/ME.jpg', cv2.IMREAD_COLOR) \n",
    "img2 = cv2.imread('./image/ME.jpg', cv2.IMREAD_GRAYSCALE) \n",
    "img3 = cv2.imread('./image/ME.jpg', cv2.IMREAD_UNCHANGED)\n",
    "# or\n",
    "# img1 = cv2.imread('./image/lena.jpg', 0) \n",
    "# img2 = cv2.imread('./image/lena.jpg', 1) \n",
    "# img3 = cv2.imread('./image/lena.jpg', -1)\n",
    "\n",
    "cv2.imshow('Image color',img1) \n",
    "cv2.imshow('Image gray',img2) \n",
    "cv2.imshow('Image unchanged',img3) \n",
    "\n",
    "cv2.waitKey(0) \n",
    "cv2.destroyAllWindows()"
   ]
  },
  {
   "cell_type": "code",
   "execution_count": null,
   "id": "b4add4b3-7024-44c0-b55c-72243d6000e3",
   "metadata": {},
   "outputs": [],
   "source": [
    "8."
   ]
  },
  {
   "cell_type": "code",
   "execution_count": null,
   "id": "b4b5bcf5-625d-4b1e-9a9c-1f99c19c16b4",
   "metadata": {},
   "outputs": [],
   "source": [
    "import cv2 \n",
    "img = cv2.imread('./image/lena.jpg', 0) \n",
    "cv2.imshow('image',img)\n",
    "cv2.imwrite('./image/lena-1.jpg',img)\n",
    "cv2.waitKey(0)\n",
    "cv2.destroyAllWindow()"
   ]
  },
  {
   "cell_type": "code",
   "execution_count": null,
   "id": "00f12faf-c184-4212-858e-ca69b85aa069",
   "metadata": {},
   "outputs": [],
   "source": [
    "9."
   ]
  },
  {
   "cell_type": "code",
   "execution_count": null,
   "id": "42fdea3e-6ea1-4c42-90b4-b41c76549d72",
   "metadata": {},
   "outputs": [
    {
     "name": "stdout",
     "output_type": "stream",
     "text": [
      "3229 2486\n"
     ]
    }
   ],
   "source": [
    "import cv2 \n",
    "img = cv2.imread('./image/SUT.jpg') \n",
    "hight, width, channel = img.shape\n",
    "print(hight, width)\n",
    "cv2.namedWindow('SUT',cv2.WINDOW_NORMAL)\n",
    "cv2.imshow('SUT',img)\n",
    "cv2.waitKey(0)\n",
    "cv2.destroyAllWindow()"
   ]
  },
  {
   "cell_type": "code",
   "execution_count": null,
   "id": "db8317d2-75ee-4862-add6-66ad73e1e59f",
   "metadata": {},
   "outputs": [],
   "source": [
    "10."
   ]
  },
  {
   "cell_type": "code",
   "execution_count": null,
   "id": "f65cd43a-46bb-491e-87f0-fcc6c53e8e80",
   "metadata": {},
   "outputs": [
    {
     "name": "stdout",
     "output_type": "stream",
     "text": [
      "(3229, 2486, 3)\n"
     ]
    }
   ],
   "source": [
    "import cv2 \n",
    "img = cv2.imread('./image/SUT.jpg',cv2.IMREAD_UNCHANGED)\n",
    "print(img.shape)\n",
    "\n",
    "cv2.namedWindow('SUT',cv2.WINDOW_NORMAL)\n",
    "cv2.imshow('SUT',img)\n",
    "\n",
    "cv2.waitKey(0)\n",
    "cv2.destroyAllWindow()"
   ]
  },
  {
   "cell_type": "code",
   "execution_count": null,
   "id": "61c62684-75bb-430e-9ecf-dfa7abe94b07",
   "metadata": {},
   "outputs": [
    {
     "name": "stdout",
     "output_type": "stream",
     "text": [
      "(3229, 2486, 3)\n"
     ]
    }
   ],
   "source": [
    "import cv2 \n",
    "img = cv2.imread('./image/SUT.jpg', cv2.IMREAD_UNCHANGED)\n",
    "print(img.shape)\n",
    "\n",
    "cv2.namedWindow('RGBA_Comp',cv2.WINDOW_NORMAL)\n",
    "cv2.imshow('RGBA_Comp',img)\n",
    "\n",
    "cv2.waitKey(0)\n",
    "cv2.destroyAllWindow()"
   ]
  },
  {
   "cell_type": "code",
   "execution_count": null,
   "id": "0f53f6e8-6852-438e-bc87-9d06418d6d9c",
   "metadata": {},
   "outputs": [],
   "source": [
    "11."
   ]
  },
  {
   "cell_type": "code",
   "execution_count": null,
   "id": "d0f4ee26-1973-49ef-b5a8-b8d990fa990b",
   "metadata": {},
   "outputs": [],
   "source": [
    "import cv2 \n",
    "img = cv2.imread('./image/ME.jpg', cv2.IMREAD_UNCHANGED)\n",
    "cv2.imshow('Orginal Size',img)\n",
    "Output = cv2.resize(img,(400,300))\n",
    "cv2.imshow('Resize Image',Output)\n",
    "\n",
    "cv2.waitKey(0)\n",
    "cv2.destroyAllWindow()"
   ]
  },
  {
   "cell_type": "code",
   "execution_count": null,
   "id": "2a7718a2-481d-4811-a345-38ad83d19336",
   "metadata": {},
   "outputs": [],
   "source": [
    "กิจกรรม1"
   ]
  },
  {
   "cell_type": "code",
   "execution_count": null,
   "id": "e9d0f516-5173-4000-98b0-ec1de759d26f",
   "metadata": {},
   "outputs": [],
   "source": [
    "import cv2\n",
    "\n",
    "imgColor = cv2.imread('./image/Namneung_BNK48.png', cv2.IMREAD_COLOR)\n",
    "imgGray = cv2.imread('./image/Namneung_BNK48.png', cv2.IMREAD_GRAYSCALE)\n",
    "\n",
    "cv2.imwrite('./image/Namneung_BNK48_C.jpg', imgColor)\n",
    "cv2.imwrite('./image/Namneung_BNK48_G.jpg', imgGray)\n",
    "\n",
    "cv2.imshow('image color', imgColor)\n",
    "cv2.imshow('image gray', imgGray)\n",
    "\n",
    "cv2.waitKey(0)  # Click ที่รูปคลิกใดๆ จะปิดรูปภาพ\n",
    "cv2.destroyAllWindows()\n"
   ]
  },
  {
   "cell_type": "code",
   "execution_count": null,
   "id": "39052ddb-ee61-459a-bddb-6ed1b71b25fb",
   "metadata": {},
   "outputs": [],
   "source": [
    "12."
   ]
  },
  {
   "cell_type": "code",
   "execution_count": null,
   "id": "602a4863-5c4e-47e8-8c8a-39e9a43dc41d",
   "metadata": {},
   "outputs": [],
   "source": [
    "import cv2\n",
    "import imutils\n",
    "img = cv2.imread('./image/ME.jpg')\n",
    "cv2.imshow('Original Size',img)\n",
    "Output = imutils.resize(img, width=300)\n",
    "cv2.imshow('Resize Image', Output)\n",
    "\n",
    "cv2.waitKey(0)  # Click ที่รูปคลิกใดๆ จะปิดรูปภาพ\n",
    "cv2.destroyAllWindows()"
   ]
  },
  {
   "cell_type": "code",
   "execution_count": null,
   "id": "36dd23e7-2b02-4c32-b942-ac48514c6db3",
   "metadata": {},
   "outputs": [],
   "source": [
    "13."
   ]
  },
  {
   "cell_type": "code",
   "execution_count": null,
   "id": "c191977f-506c-4200-a49d-59f9a86285e0",
   "metadata": {},
   "outputs": [],
   "source": [
    "import cv2\n",
    "\n",
    "imgOrg = cv2.imread('./image/ME.jpg')\n",
    "cv2.imshow('Orginal Size', imgOrg)\n",
    "\n",
    "imgR01 = cv2.rotate(imgOrg, cv2.ROTATE_90_CLOCKWISE)\n",
    "imgR02 = cv2.rotate(imgOrg, cv2.ROTATE_90_COUNTERCLOCKWISE)\n",
    "imgR03 = cv2.rotate(imgOrg, cv2.ROTATE_180)\n",
    "\n",
    "cv2.imshow('Rotate CW90', imgR01)\n",
    "cv2.imshow('Rotate CCW90', imgR02)\n",
    "cv2.imshow('Rotate 180', imgR03)\n",
    "\n",
    "cv2.waitKey(0)  # Click ที่รูปคลิกใดๆ จะปิดรูปภาพ\n",
    "cv2.destroyAllWindows()\n"
   ]
  },
  {
   "cell_type": "code",
   "execution_count": null,
   "id": "d2172635-7d82-4796-aa19-21b16b3b20f6",
   "metadata": {},
   "outputs": [],
   "source": [
    "14."
   ]
  },
  {
   "cell_type": "code",
   "execution_count": null,
   "id": "25f15e9a-7189-4ed3-a638-2f95fe66ee0c",
   "metadata": {},
   "outputs": [],
   "source": [
    "import cv2\n",
    "from scipy import ndimage\n",
    "\n",
    "imgOrg = cv2.imread('./image/ME.jpg')\n",
    "cv2.imshow('Orginal Size', imgOrg)\n",
    "\n",
    "imgR01 = ndimage.rotate(imgOrg, 15)\n",
    "imgR02 = ndimage.rotate(imgOrg, -15)\n",
    "imgR03 = ndimage.rotate(imgOrg, -30)\n",
    "\n",
    "cv2.imshow('Rotate CCW15', imgR01)\n",
    "cv2.imshow('Rotate CW15', imgR02)\n",
    "cv2.imshow('Rotate CW30', imgR03)\n",
    "\n",
    "cv2.waitKey(0)  # Click ที่รูปคลิกใดๆ จะปิดรูปภาพ\n",
    "cv2.destroyAllWindows()\n"
   ]
  },
  {
   "cell_type": "code",
   "execution_count": null,
   "id": "3131ac48-bf9e-45fd-9208-3608790cfd09",
   "metadata": {},
   "outputs": [],
   "source": [
    "15."
   ]
  },
  {
   "cell_type": "code",
   "execution_count": null,
   "id": "145cc9a6-2c25-4671-aa4e-d21c4a4a2f93",
   "metadata": {},
   "outputs": [],
   "source": [
    "import cv2\n",
    "\n",
    "imgOrg = cv2.imread('./image/ME.jpg')\n",
    "\n",
    "imgR01 = cv2.flip(imgOrg, 0)   # Flip แนวนอน (Vertical)\n",
    "imgR02 = cv2.flip(imgOrg, 1)   # Flip แนวตั้ง (Horizontal)\n",
    "imgR03 = cv2.flip(imgOrg, -1)  # Flip ทั้งแนวตั้งและแนวนอน\n",
    "\n",
    "cv2.imshow('Orginal', imgOrg)\n",
    "cv2.imshow('H-Flip', imgR01)\n",
    "cv2.imshow('V-Flip', imgR02)\n",
    "cv2.imshow('HV-Flip', imgR03)\n",
    "\n",
    "cv2.waitKey(0)  # Click ที่รูปคลิกใดๆ จะปิดรูปภาพ\n",
    "cv2.destroyAllWindows()\n"
   ]
  },
  {
   "cell_type": "code",
   "execution_count": null,
   "id": "519ee619-421f-4c0d-967c-616e1cb27f46",
   "metadata": {},
   "outputs": [],
   "source": [
    "กิจกรรม2"
   ]
  },
  {
   "cell_type": "code",
   "execution_count": null,
   "id": "4bad0047-ddea-4d2f-9e57-29cdddcb9a55",
   "metadata": {},
   "outputs": [
    {
     "name": "stdout",
     "output_type": "stream",
     "text": [
      "birthday-1208233_640_flip.jpg\n",
      "blue-1845901_640_flip.jpg\n",
      "dream-4827288_640_flip.jpg\n",
      "fruit-1275551_640_flip.jpg\n",
      "love-3061483_640_flip.jpg\n",
      "man-4875665_640_flip.jpg\n",
      "store-1245758_640_flip.jpg\n",
      "tartan-track-2678544_640_flip.jpg\n",
      "typewriter-1170657_640_flip.jpg\n"
     ]
    }
   ],
   "source": [
    "import os, cv2\n",
    "\n",
    "for root, dirs, files in os.walk('./image/flips/'):\n",
    "    for filename in files:\n",
    "        print(filename)\n",
    "        imgOrigin = cv2.imread('./image/flips/' + filename)\n",
    "        imgResize = cv2.resize(imgOrigin, (400, 300))\n",
    "        cv2.imshow(filename, imgResize)\n",
    "        cv2.imwrite('./image/resize/' + filename, imgResize)\n",
    "\n",
    "cv2.waitKey(0)  # Click ที่รูปคลิกใดๆ จะปิดรูปภาพ\n",
    "cv2.destroyAllWindows()\n"
   ]
  },
  {
   "cell_type": "code",
   "execution_count": null,
   "id": "1bae5781-4871-4e2b-b321-2392e3207ced",
   "metadata": {},
   "outputs": [],
   "source": [
    "กิจกรรม3"
   ]
  },
  {
   "cell_type": "code",
   "execution_count": null,
   "id": "ea570e31-ebc1-414d-87c2-f9d9e198d72e",
   "metadata": {},
   "outputs": [
    {
     "name": "stdout",
     "output_type": "stream",
     "text": [
      "(126, 168, 3)\n"
     ]
    }
   ],
   "source": [
    "import cv2\n",
    "import imutils\n",
    "Main = cv2.imread('./image/Bird.jpg')\n",
    "B = Main[258:510,473:809]\n",
    "\n",
    "Output = imutils.resize(B, width = 168)\n",
    "print (Output.shape)\n",
    "\n",
    "x,y = 40,100\n",
    "Main[y:y+126,x:x+168] = Output\n",
    "\n",
    "cv2.imshow('Main_Bird', Main)\n",
    "cv2.waitKey(0)\n",
    "cv2.destroyAllWindows()"
   ]
  },
  {
   "cell_type": "code",
   "execution_count": null,
   "id": "6bc10641-701a-48a2-aa1b-b651e8f0f08a",
   "metadata": {},
   "outputs": [],
   "source": []
  }
 ],
 "metadata": {
  "kernelspec": {
   "display_name": "base",
   "language": "python",
   "name": "python3"
  },
  "language_info": {
   "codemirror_mode": {
    "name": "ipython",
    "version": 3
   },
   "file_extension": ".py",
   "mimetype": "text/x-python",
   "name": "python",
   "nbconvert_exporter": "python",
   "pygments_lexer": "ipython3",
   "version": "3.13.5"
  }
 },
 "nbformat": 4,
 "nbformat_minor": 5
}

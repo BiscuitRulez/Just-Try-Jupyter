{
 "cells": [
  {
   "cell_type": "code",
   "execution_count": 12,
   "id": "2447d5b0-152f-4355-98ac-74fd36becbbb",
   "metadata": {},
   "outputs": [
    {
     "name": "stdout",
     "output_type": "stream",
     "text": [
      "90 122\n",
      "395 470\n",
      "280 160\n",
      "115 96\n",
      "68 64\n",
      "60 371\n",
      "388 364\n",
      "398 64\n"
     ]
    }
   ],
   "source": [
    "#https://stackoverflow.com/questions/61702938/python-opencv-add-status-bar-for-show-mouse-position-and-color-rgb\n",
    "import cv2\n",
    "\n",
    "def move_event(event, x, y, flags, params):\n",
    "    imgk = img.copy()\n",
    "    # checking for right mouse clicks     \n",
    "    if event==cv2.EVENT_MOUSEMOVE:\n",
    "        font = cv2.FONT_HERSHEY_SIMPLEX\n",
    "        org = (x, y)\n",
    "        B = imgk[y, x, 0]\n",
    "        G = imgk[y, x, 1]\n",
    "        R = imgk[y, x, 2]\n",
    "\n",
    "        cv2.putText(imgk, '(x, y)=({}, {})'.format(x, y), org, font, 1, (255, 255, 255), 2, cv2.LINE_8)\n",
    "        cv2.putText(imgk, '                  ,R={}'.format(R), org, font, 1, (0, 0, 255), 2, cv2.LINE_8)\n",
    "        cv2.putText(imgk, '                         ,G={}'.format(G), org, font, 1, (0, 255, 0), 2, cv2.LINE_8)\n",
    "        cv2.putText(imgk, '                                 ,B={}'.format(B), org, font, 1, (255, 0, 0), 2, cv2.LINE_8)\n",
    "        cv2.imshow('image', imgk)\n",
    "    \n",
    "    if event==cv2.EVENT_LBUTTONDOWN:\n",
    "        print(x,y)\n",
    "\n",
    "# reading the image\n",
    "img = cv2.imread('./image/lena.jpg')\n",
    "\n",
    "# displaying the image\n",
    "cv2.namedWindow(\"image\", cv2.WINDOW_NORMAL)\n",
    "cv2.imshow('image', img)\n",
    "\n",
    "# setting mouse hadler for the image\n",
    "# and calling the click_event() function\n",
    "cv2.setMouseCallback('image', move_event)\n",
    "\n",
    "# wait for a key to be pressed to exit\n",
    "cv2.waitKey(0)\n",
    "\n",
    "# close the window\n",
    "cv2.destroyAllWindows()"
   ]
  },
  {
   "cell_type": "code",
   "execution_count": null,
   "id": "9387b408-e899-4cc1-b5c5-dc5c12264c9a",
   "metadata": {},
   "outputs": [],
   "source": []
  },
  {
   "cell_type": "code",
   "execution_count": null,
   "id": "66d16118-af2f-493f-8612-6eb38a6e465a",
   "metadata": {},
   "outputs": [],
   "source": []
  }
 ],
 "metadata": {
  "kernelspec": {
   "display_name": "Python 3 (ipykernel)",
   "language": "python",
   "name": "python3"
  },
  "language_info": {
   "codemirror_mode": {
    "name": "ipython",
    "version": 3
   },
   "file_extension": ".py",
   "mimetype": "text/x-python",
   "name": "python",
   "nbconvert_exporter": "python",
   "pygments_lexer": "ipython3",
   "version": "3.12.3"
  }
 },
 "nbformat": 4,
 "nbformat_minor": 5
}
